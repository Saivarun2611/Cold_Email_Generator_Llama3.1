{
 "cells": [
  {
   "cell_type": "code",
   "execution_count": 24,
   "metadata": {},
   "outputs": [],
   "source": [
    "from langchain_groq import ChatGroq"
   ]
  },
  {
   "cell_type": "code",
   "execution_count": 25,
   "metadata": {},
   "outputs": [
    {
     "name": "stdout",
     "output_type": "stream",
     "text": [
      "The highest point on Earth is Mount Everest, located in the Himalayas on the border between Nepal and Tibet, China. It stands at a height of 8,848.86 meters (29,031.7 feet) above sea level.\n"
     ]
    }
   ],
   "source": [
    "\n",
    "llm = ChatGroq(\n",
    "    temperature=0, \n",
    "    groq_api_key='Your_API_KEY', \n",
    "    model_name=\"llama-3.1-70b-versatile\"\n",
    ")\n",
    "\n",
    "response = llm.invoke(\"Highest point on this planet is?\")\n",
    "print(response.content)\n"
   ]
  },
  {
   "cell_type": "code",
   "execution_count": 26,
   "metadata": {},
   "outputs": [
    {
     "name": "stdout",
     "output_type": "stream",
     "text": [
      "Apply for Senior Software Engineer\n",
      "\n",
      "Search JobsSkip navigationSearch JobsNIKE, INC. JOBSContract JobsJoin The Talent CommunityLife @ NikeOverviewBenefitsBrandsOverviewJordanConverseTeamsOverviewAdministrative SupportAdvanced InnovationAir Manufacturing InnovationAviationCommunicationsCustomer ServiceDesignDigitalFacilitiesFinance & AccountingGovernment & Public AffairsHuman ResourcesInsights & AnalyticsLegalManufacturing & EngineeringMarketingMerchandisingPlanningPrivacyProcurementProduct Creation, Development & ManagementRetail CorporateRetail StoresSalesSocial & Community ImpactSports MarketingStrategic PlanningSupply Chain, Distribution & LogisticsSustainabilityTechnologyLocationsOverviewNike WHQNike New York HQEHQ: Hilversum, The NetherlandsELC: Laakdal, BelgiumGreater China HQDiversity, Equity & InclusionOverviewMilitary InclusionDisability InclusionIndigenous InclusionInternshipsTechnologySenior Software EngineerKarnataka, IndiaBecome a Part of the NIKE, Inc. TeamNIKE, Inc. does more than outfit the world’s best athletes. It is a place to explore potential, obliterate boundaries and push out the edges of what can be. The company looks for people who can grow, think, dream and create. Its culture thrives by embracing diversity and rewarding imagination. The brand seeks achievers, leaders and visionaries. At NIKE, Inc. it’s about each person bringing skills and passion to a challenging and constantly evolving game.NIKE is a technology company. From our flagship website and five-star mobile apps to developing products, managing big data and providing leading edge engineering and systems support, our teams at NIKE Global Technology exist to revolutionize the future at the confluence of tech and sport. We invest and develop advances in technology and employ the most creative people in the world, and then give them the support to constantly innovate, iterate and serve consumers more directly and personally.  Our teams are innovative, diverse, multidisciplinary and collaborative, taking technology into the future and bringing the world with it.Supply Chain Planning Technology (SCPT) team under GlobaL Technology (GT) at Nike is building a global platform to offer best-in-class delivery experience for Nike’s consumers and partners while reducing fulfillment costs and increasing supply chain network throughput with strategically deployed talent across Nike’s capability centers globallyWHO WE ARE LOOKING FORA Senior Software Engineer who can design, develop and deliver high quality software solutionsthat solve specific business problems and grow Nike’s digital businesses.At Nike, we believe in owning the lifecycle of the software that you develop within this fast-pacedenvironment.  That means that new features and products are delivered to production with speed, butalso reinforced with a mature, agile development methodology and automated testing to ensuredeliverables are of the highest quality.WHAT YOU WILL WORK ONAs a Senior Software Engineer you will:Be part of a mission critical team focused on building a high-quality, low-latency, fault-tolerant supply chain platform that drive Nike’s Digital transformation and growthstrategies.Design and deliver data pipelines and products following domain-driven design.Have strong communication skills, ability to manage up and down, solve complexproblems, and being a supportive leader and team player is key.Leverage and organize your squad to collectively deliver software/data solutions that scaleappropriately and perform to defined service level agreementsCollaborate with engineers, architects, product and agile scrum masters to develop the right business ortechnical solutionEnsure on going proper functioning of software & data solutions in production using quality bestpracticesResponsible for the health and maintainability of code base and repositoriesConsistently meets squad-level commitments and deliverables according to agreed upontimelinesKnowledge sharing through documentation, presentations, pair programming and othermechanismsAdvise product and business owners on specific technology-related aspects required todeliver solutions correctly and deliver them according to a technical roadmapBe an active member and help to define of Nike’s engineering cultureRemain current with industry trends and lead development of key innovation features.Being available in a rotating production support model and being an escalation point whenneededBeing available and flexible in interacting with Global teams when needed to assist the teams withbusiness deliverablesGrow yourself as an engineer and a leader:  Leverage Nike resources and trainingopportunities effectivelyWHO YOU WILL WORK WITHAs a Senior Software Engineer, you will be tasked with working closely with multiple engineering squads across a business-aligned domain in order to solve a wide range of business and technology related problems and you will be reporting under Software Engineering Manager.Your partners will include Scrum teams, Engineering and Architecture, as well as Product and Business leadership. WHAT YOU BRINGBachelor's degree in Computer Science, Information Systems, or other relevant subjectarea, or equivalent experience.5-8 years experience of building complex software or data engineering solutionsExposure to Supply Chain Planning domain areas like demand planning, supply planning and inventory planning & management is an advantageVery strong expertise in data engineering skills using Python, Pyspark, Databricks, Delta lake, Unity catalogue, Kafka, Airflow, Spark Expectation is a must.Expsoure to data governance, data quality and data life cycle management.Working knowledge on all aspects of Cloud native distributed system development. AWS preferredExperience with Dev Ops and CI/CD automation, Zero Touch deploymentsExperience with engineering best practices, including use of design patterns, and code reviews.CI/CD development environments/tools and containerization/container platforms: Git, Docker, KubernetesWell versed in TDD methodologies and the enabling tools and technologies - JUnit, TestNG, Cucumber, CI/CD etcShould be able to eliminate Single Point of failure and test disaster recovery and HA regularlyExperience with Github Co-pilot is an advantageExperience working with large codebase on a cross functional team - Experience in building large scale systemsExceptional communication and interpersonal skills.Practitioner of Agile (Scrum) methodology with ability to communicate technical and functional vision and direction to multiple audiencesThe skills and desire to work and cooperate with colleagues all around the worldNIKE, Inc. is a growth company that looks for team members to grow with it. Nike offers a generous total rewards package, casual work environment, a diverse and inclusive culture, and an electric atmosphere for professional development. No matter the location, or the role, every Nike employee shares one galvanizing mission: To bring inspiration and innovation to every athlete* in the world.NIKE, Inc. is committed to employing a diverse workforce. Qualified applicants will receive consideration without regard to race, color, religion, sex, national origin, age, sexual orientation, gender identity, gender expression, veteran status, or disability.How We HireAt NIKE, Inc. we promise to provide a premium, inclusive, compelling and authentic candidate experience. Delivering on this promise means we allow you to be at your best — and to do that, you need to understand how the hiring process works. Transparency is key.\n",
      "\n",
      "* This overview explains our hiring process for corporate roles. Note there may be different hiring steps involved for non-corporate roles.Start nowBenefitsWhether it’s transportation or financial health, we continually invest in our employees to help them achieve greatness — inside and outside of work. All who work here should be able to realize their full potential.Employee Assistance ProgramHolidaysMedical PlanPaid Time Off (PTO)Product DiscountsLearn moreGIFT CARDSPROMOTIONSFIND A STORESIGN UP FOR EMAILBECOME A MEMBERNIKE JOURNALSEND US FEEDBACKGET HELPGET HELPOrder StatusShipping and DeliveryReturnsPayment OptionsGift Cards BalanceContact UsABOUT NIKEABOUT NIKENewsCareersInvestorsPurposeSustainabilityUnited States© 2024 Nike, Inc. All Rights ReservedGuidesNike AdaptNike Air MaxNike FlyleatherNike ReactSpace HippieNike AirNike FlyEaseNike Free Nike VaporflyNike Air Force 1 Nike FlyknitNike JoyrideNike ZoomXTerms of SaleTerms of UseNike Privacy PolicyYour Privacy ChoicesCA Supply Chain Act\n"
     ]
    }
   ],
   "source": [
    "#Now I'll use WebBaseLoader by Langchain this will help in webscrapping and collecting \n",
    "# info about job posting from company websites\n",
    "from langchain_community.document_loaders import WebBaseLoader\n",
    "\n",
    "loader = WebBaseLoader(\"https://jobs.nike.com/job/R-37070\")\n",
    "page_data = loader.load().pop().page_content\n",
    "print(page_data)\n"
   ]
  },
  {
   "cell_type": "code",
   "execution_count": 27,
   "metadata": {},
   "outputs": [
    {
     "data": {
      "text/plain": [
       "str"
      ]
     },
     "execution_count": 27,
     "metadata": {},
     "output_type": "execute_result"
    }
   ],
   "source": [
    "from langchain_core.prompts import PromptTemplate\n",
    "\n",
    "prompt_extract = PromptTemplate.from_template(\n",
    "        \"\"\"\n",
    "        ### SCRAPED TEXT FROM WEBSITE:\n",
    "        {page_data}\n",
    "        ### INSTRUCTION:\n",
    "        The scraped text is from the career's page of a website.\n",
    "        Your job is to extract the job postings and return them in JSON format containing the \n",
    "        following keys: `role`, `experience`, `skills` and `description`.\n",
    "        Only return the valid JSON.\n",
    "        ### VALID JSON (NO PREAMBLE):    \n",
    "        \"\"\"\n",
    ")\n",
    "\n",
    "chain_extract = prompt_extract | llm \n",
    "res = chain_extract.invoke(input={'page_data':page_data})\n",
    "type(res.content)\n"
   ]
  },
  {
   "cell_type": "code",
   "execution_count": 28,
   "metadata": {},
   "outputs": [
    {
     "name": "stdout",
     "output_type": "stream",
     "text": [
      "```\n",
      "{\n",
      "  \"role\": \"Senior Software Engineer\",\n",
      "  \"experience\": \"5-8 years\",\n",
      "  \"skills\": [\n",
      "    \"Python\",\n",
      "    \"Pyspark\",\n",
      "    \"Databricks\",\n",
      "    \"Delta lake\",\n",
      "    \"Unity catalogue\",\n",
      "    \"Kafka\",\n",
      "    \"Airflow\",\n",
      "    \"Spark\",\n",
      "    \"AWS\",\n",
      "    \"Dev Ops\",\n",
      "    \"CI/CD automation\",\n",
      "    \"Zero Touch deployments\",\n",
      "    \"Design patterns\",\n",
      "    \"Code reviews\",\n",
      "    \"Git\",\n",
      "    \"Docker\",\n",
      "    \"Kubernetes\",\n",
      "    \"JUnit\",\n",
      "    \"TestNG\",\n",
      "    \"Cucumber\",\n",
      "    \"CI/CD\",\n",
      "    \"Github Co-pilot\"\n",
      "  ],\n",
      "  \"description\": \"Design, develop and deliver high quality software solutions that solve specific business problems and grow Nike’s digital businesses. Be part of a mission critical team focused on building a high-quality, low-latency, fault-tolerant supply chain platform that drive Nike’s Digital transformation and growth strategies.\"\n",
      "}\n",
      "```\n"
     ]
    }
   ],
   "source": [
    "print(res.content)"
   ]
  },
  {
   "cell_type": "code",
   "execution_count": 29,
   "metadata": {},
   "outputs": [
    {
     "data": {
      "text/plain": [
       "{'role': 'Senior Software Engineer',\n",
       " 'experience': '5-8 years',\n",
       " 'skills': ['Python',\n",
       "  'Pyspark',\n",
       "  'Databricks',\n",
       "  'Delta lake',\n",
       "  'Unity catalogue',\n",
       "  'Kafka',\n",
       "  'Airflow',\n",
       "  'Spark',\n",
       "  'AWS',\n",
       "  'Dev Ops',\n",
       "  'CI/CD automation',\n",
       "  'Zero Touch deployments',\n",
       "  'Design patterns',\n",
       "  'Code reviews',\n",
       "  'Git',\n",
       "  'Docker',\n",
       "  'Kubernetes',\n",
       "  'JUnit',\n",
       "  'TestNG',\n",
       "  'Cucumber',\n",
       "  'CI/CD',\n",
       "  'Github Co-pilot'],\n",
       " 'description': 'Design, develop and deliver high quality software solutions that solve specific business problems and grow Nike’s digital businesses. Be part of a mission critical team focused on building a high-quality, low-latency, fault-tolerant supply chain platform that drive Nike’s Digital transformation and growth strategies.'}"
      ]
     },
     "execution_count": 29,
     "metadata": {},
     "output_type": "execute_result"
    }
   ],
   "source": [
    "from langchain_core.output_parsers import JsonOutputParser\n",
    "\n",
    "json_parser = JsonOutputParser()\n",
    "json_res = json_parser.parse(res.content)\n",
    "json_res\n",
    "\n"
   ]
  },
  {
   "cell_type": "code",
   "execution_count": 30,
   "metadata": {},
   "outputs": [
    {
     "data": {
      "text/html": [
       "<div>\n",
       "<style scoped>\n",
       "    .dataframe tbody tr th:only-of-type {\n",
       "        vertical-align: middle;\n",
       "    }\n",
       "\n",
       "    .dataframe tbody tr th {\n",
       "        vertical-align: top;\n",
       "    }\n",
       "\n",
       "    .dataframe thead th {\n",
       "        text-align: right;\n",
       "    }\n",
       "</style>\n",
       "<table border=\"1\" class=\"dataframe\">\n",
       "  <thead>\n",
       "    <tr style=\"text-align: right;\">\n",
       "      <th></th>\n",
       "      <th>Techstack</th>\n",
       "      <th>Links</th>\n",
       "    </tr>\n",
       "  </thead>\n",
       "  <tbody>\n",
       "    <tr>\n",
       "      <th>0</th>\n",
       "      <td>React, Node.js, MongoDB</td>\n",
       "      <td>https://example.com/react-portfolio</td>\n",
       "    </tr>\n",
       "    <tr>\n",
       "      <th>1</th>\n",
       "      <td>Angular,.NET, SQL Server</td>\n",
       "      <td>https://example.com/angular-portfolio</td>\n",
       "    </tr>\n",
       "    <tr>\n",
       "      <th>2</th>\n",
       "      <td>Vue.js, Ruby on Rails, PostgreSQL</td>\n",
       "      <td>https://example.com/vue-portfolio</td>\n",
       "    </tr>\n",
       "    <tr>\n",
       "      <th>3</th>\n",
       "      <td>Python, Django, MySQL</td>\n",
       "      <td>https://example.com/python-portfolio</td>\n",
       "    </tr>\n",
       "    <tr>\n",
       "      <th>4</th>\n",
       "      <td>Java, Spring Boot, Oracle</td>\n",
       "      <td>https://example.com/java-portfolio</td>\n",
       "    </tr>\n",
       "    <tr>\n",
       "      <th>5</th>\n",
       "      <td>Flutter, Firebase, GraphQL</td>\n",
       "      <td>https://example.com/flutter-portfolio</td>\n",
       "    </tr>\n",
       "    <tr>\n",
       "      <th>6</th>\n",
       "      <td>WordPress, PHP, MySQL</td>\n",
       "      <td>https://example.com/wordpress-portfolio</td>\n",
       "    </tr>\n",
       "    <tr>\n",
       "      <th>7</th>\n",
       "      <td>Magento, PHP, MySQL</td>\n",
       "      <td>https://example.com/magento-portfolio</td>\n",
       "    </tr>\n",
       "    <tr>\n",
       "      <th>8</th>\n",
       "      <td>React Native, Node.js, MongoDB</td>\n",
       "      <td>https://example.com/react-native-portfolio</td>\n",
       "    </tr>\n",
       "    <tr>\n",
       "      <th>9</th>\n",
       "      <td>iOS, Swift, Core Data</td>\n",
       "      <td>https://example.com/ios-portfolio</td>\n",
       "    </tr>\n",
       "    <tr>\n",
       "      <th>10</th>\n",
       "      <td>Android, Java, Room Persistence</td>\n",
       "      <td>https://example.com/android-portfolio</td>\n",
       "    </tr>\n",
       "    <tr>\n",
       "      <th>11</th>\n",
       "      <td>Kotlin, Android, Firebase</td>\n",
       "      <td>https://example.com/kotlin-android-portfolio</td>\n",
       "    </tr>\n",
       "    <tr>\n",
       "      <th>12</th>\n",
       "      <td>Android TV, Kotlin, Android NDK</td>\n",
       "      <td>https://example.com/android-tv-portfolio</td>\n",
       "    </tr>\n",
       "    <tr>\n",
       "      <th>13</th>\n",
       "      <td>iOS, Swift, ARKit</td>\n",
       "      <td>https://example.com/ios-ar-portfolio</td>\n",
       "    </tr>\n",
       "    <tr>\n",
       "      <th>14</th>\n",
       "      <td>Cross-platform, Xamarin, Azure</td>\n",
       "      <td>https://example.com/xamarin-portfolio</td>\n",
       "    </tr>\n",
       "    <tr>\n",
       "      <th>15</th>\n",
       "      <td>Backend, Kotlin, Spring Boot</td>\n",
       "      <td>https://example.com/kotlin-backend-portfolio</td>\n",
       "    </tr>\n",
       "    <tr>\n",
       "      <th>16</th>\n",
       "      <td>Frontend, TypeScript, Angular</td>\n",
       "      <td>https://example.com/typescript-frontend-portfolio</td>\n",
       "    </tr>\n",
       "    <tr>\n",
       "      <th>17</th>\n",
       "      <td>Full-stack, JavaScript, Express.js</td>\n",
       "      <td>https://example.com/full-stack-js-portfolio</td>\n",
       "    </tr>\n",
       "    <tr>\n",
       "      <th>18</th>\n",
       "      <td>Machine Learning, Python, TensorFlow</td>\n",
       "      <td>https://example.com/ml-python-portfolio</td>\n",
       "    </tr>\n",
       "    <tr>\n",
       "      <th>19</th>\n",
       "      <td>DevOps, Jenkins, Docker</td>\n",
       "      <td>https://example.com/devops-portfolio</td>\n",
       "    </tr>\n",
       "  </tbody>\n",
       "</table>\n",
       "</div>"
      ],
      "text/plain": [
       "                               Techstack  \\\n",
       "0                React, Node.js, MongoDB   \n",
       "1               Angular,.NET, SQL Server   \n",
       "2      Vue.js, Ruby on Rails, PostgreSQL   \n",
       "3                  Python, Django, MySQL   \n",
       "4              Java, Spring Boot, Oracle   \n",
       "5             Flutter, Firebase, GraphQL   \n",
       "6                  WordPress, PHP, MySQL   \n",
       "7                    Magento, PHP, MySQL   \n",
       "8         React Native, Node.js, MongoDB   \n",
       "9                  iOS, Swift, Core Data   \n",
       "10       Android, Java, Room Persistence   \n",
       "11             Kotlin, Android, Firebase   \n",
       "12       Android TV, Kotlin, Android NDK   \n",
       "13                     iOS, Swift, ARKit   \n",
       "14        Cross-platform, Xamarin, Azure   \n",
       "15          Backend, Kotlin, Spring Boot   \n",
       "16         Frontend, TypeScript, Angular   \n",
       "17    Full-stack, JavaScript, Express.js   \n",
       "18  Machine Learning, Python, TensorFlow   \n",
       "19               DevOps, Jenkins, Docker   \n",
       "\n",
       "                                                Links  \n",
       "0                 https://example.com/react-portfolio  \n",
       "1               https://example.com/angular-portfolio  \n",
       "2                   https://example.com/vue-portfolio  \n",
       "3                https://example.com/python-portfolio  \n",
       "4                  https://example.com/java-portfolio  \n",
       "5               https://example.com/flutter-portfolio  \n",
       "6             https://example.com/wordpress-portfolio  \n",
       "7               https://example.com/magento-portfolio  \n",
       "8          https://example.com/react-native-portfolio  \n",
       "9                   https://example.com/ios-portfolio  \n",
       "10              https://example.com/android-portfolio  \n",
       "11       https://example.com/kotlin-android-portfolio  \n",
       "12           https://example.com/android-tv-portfolio  \n",
       "13               https://example.com/ios-ar-portfolio  \n",
       "14              https://example.com/xamarin-portfolio  \n",
       "15       https://example.com/kotlin-backend-portfolio  \n",
       "16  https://example.com/typescript-frontend-portfolio  \n",
       "17        https://example.com/full-stack-js-portfolio  \n",
       "18            https://example.com/ml-python-portfolio  \n",
       "19               https://example.com/devops-portfolio  "
      ]
     },
     "execution_count": 30,
     "metadata": {},
     "output_type": "execute_result"
    }
   ],
   "source": [
    "import pandas as pd\n",
    "\n",
    "df = pd.read_csv(\"my_portfolio.csv\")\n",
    "df"
   ]
  },
  {
   "cell_type": "code",
   "execution_count": 31,
   "metadata": {},
   "outputs": [],
   "source": [
    "import uuid\n",
    "import chromadb\n",
    "\n",
    "client = chromadb.PersistentClient('vectorstore')\n",
    "collection = client.get_or_create_collection(name=\"portfolio\")\n",
    "\n",
    "if not collection.count():\n",
    "    for _, row in df.iterrows():\n",
    "        collection.add(documents=row[\"Techstack\"],\n",
    "                       metadatas={\"links\": row[\"Links\"]},\n",
    "                       ids=[str(uuid.uuid4())])"
   ]
  },
  {
   "cell_type": "code",
   "execution_count": 32,
   "metadata": {},
   "outputs": [
    {
     "data": {
      "text/plain": [
       "dict"
      ]
     },
     "execution_count": 32,
     "metadata": {},
     "output_type": "execute_result"
    }
   ],
   "source": [
    "type(json_res)"
   ]
  },
  {
   "cell_type": "code",
   "execution_count": 34,
   "metadata": {},
   "outputs": [
    {
     "data": {
      "text/plain": [
       "['Python',\n",
       " 'Pyspark',\n",
       " 'Databricks',\n",
       " 'Delta lake',\n",
       " 'Unity catalogue',\n",
       " 'Kafka',\n",
       " 'Airflow',\n",
       " 'Spark',\n",
       " 'AWS',\n",
       " 'Dev Ops',\n",
       " 'CI/CD automation',\n",
       " 'Zero Touch deployments',\n",
       " 'Design patterns',\n",
       " 'Code reviews',\n",
       " 'Git',\n",
       " 'Docker',\n",
       " 'Kubernetes',\n",
       " 'JUnit',\n",
       " 'TestNG',\n",
       " 'Cucumber',\n",
       " 'CI/CD',\n",
       " 'Github Co-pilot']"
      ]
     },
     "execution_count": 34,
     "metadata": {},
     "output_type": "execute_result"
    }
   ],
   "source": [
    "job = json_res\n",
    "job['skills']"
   ]
  },
  {
   "cell_type": "code",
   "execution_count": 35,
   "metadata": {},
   "outputs": [
    {
     "data": {
      "text/plain": [
       "[[{'links': 'https://example.com/ml-python-portfolio'},\n",
       "  {'links': 'https://example.com/python-portfolio'}],\n",
       " [{'links': 'https://example.com/ml-python-portfolio'},\n",
       "  {'links': 'https://example.com/python-portfolio'}],\n",
       " [{'links': 'https://example.com/flutter-portfolio'},\n",
       "  {'links': 'https://example.com/kotlin-android-portfolio'}],\n",
       " [{'links': 'https://example.com/java-portfolio'},\n",
       "  {'links': 'https://example.com/devops-portfolio'}],\n",
       " [{'links': 'https://example.com/ios-portfolio'},\n",
       "  {'links': 'https://example.com/angular-portfolio'}],\n",
       " [{'links': 'https://example.com/devops-portfolio'},\n",
       "  {'links': 'https://example.com/android-tv-portfolio'}],\n",
       " [{'links': 'https://example.com/ml-python-portfolio'},\n",
       "  {'links': 'https://example.com/ios-ar-portfolio'}],\n",
       " [{'links': 'https://example.com/kotlin-android-portfolio'},\n",
       "  {'links': 'https://example.com/kotlin-backend-portfolio'}],\n",
       " [{'links': 'https://example.com/ios-ar-portfolio'},\n",
       "  {'links': 'https://example.com/wordpress-portfolio'}],\n",
       " [{'links': 'https://example.com/devops-portfolio'},\n",
       "  {'links': 'https://example.com/ios-ar-portfolio'}],\n",
       " [{'links': 'https://example.com/devops-portfolio'},\n",
       "  {'links': 'https://example.com/magento-portfolio'}],\n",
       " [{'links': 'https://example.com/ios-ar-portfolio'},\n",
       "  {'links': 'https://example.com/devops-portfolio'}],\n",
       " [{'links': 'https://example.com/android-portfolio'},\n",
       "  {'links': 'https://example.com/flutter-portfolio'}],\n",
       " [{'links': 'https://example.com/full-stack-js-portfolio'},\n",
       "  {'links': 'https://example.com/wordpress-portfolio'}],\n",
       " [{'links': 'https://example.com/devops-portfolio'},\n",
       "  {'links': 'https://example.com/kotlin-android-portfolio'}],\n",
       " [{'links': 'https://example.com/devops-portfolio'},\n",
       "  {'links': 'https://example.com/ios-ar-portfolio'}],\n",
       " [{'links': 'https://example.com/devops-portfolio'},\n",
       "  {'links': 'https://example.com/kotlin-backend-portfolio'}],\n",
       " [{'links': 'https://example.com/java-portfolio'},\n",
       "  {'links': 'https://example.com/kotlin-backend-portfolio'}],\n",
       " [{'links': 'https://example.com/android-tv-portfolio'},\n",
       "  {'links': 'https://example.com/android-portfolio'}],\n",
       " [{'links': 'https://example.com/vue-portfolio'},\n",
       "  {'links': 'https://example.com/devops-portfolio'}],\n",
       " [{'links': 'https://example.com/magento-portfolio'},\n",
       "  {'links': 'https://example.com/wordpress-portfolio'}],\n",
       " [{'links': 'https://example.com/devops-portfolio'},\n",
       "  {'links': 'https://example.com/kotlin-backend-portfolio'}]]"
      ]
     },
     "execution_count": 35,
     "metadata": {},
     "output_type": "execute_result"
    }
   ],
   "source": [
    "#Now I have the required skills based on this skill I'll query my vectordb to fetch relavent portfolio\n",
    "links = collection.query(query_texts=job['skills'], n_results=2).get('metadatas', [])\n",
    "links\n"
   ]
  },
  {
   "cell_type": "code",
   "execution_count": 36,
   "metadata": {},
   "outputs": [
    {
     "name": "stdout",
     "output_type": "stream",
     "text": [
      "Subject: Expert Software Solutions for Nike's Digital Transformation\n",
      "\n",
      "Dear Hiring Manager,\n",
      "\n",
      "I came across the Senior Software Engineer role at Nike, and I'm excited to introduce GNSV, an AI & Software Consulting company that can help you achieve your digital transformation goals. With our expertise in designing, developing, and delivering high-quality software solutions, we're confident that we can support Nike's mission-critical projects.\n",
      "\n",
      "Our team has extensive experience in working with technologies like Python, Pyspark, Databricks, Delta lake, Unity catalogue, Kafka, Airflow, Spark, AWS, DevOps, CI/CD automation, Zero Touch deployments, Design patterns, Code reviews, Git, Docker, Kubernetes, JUnit, TestNG, Cucumber, and CI/CD. We've successfully implemented these technologies in various projects, ensuring scalability, process optimization, cost reduction, and heightened overall efficiency.\n",
      "\n",
      "I'd like to highlight a few relevant projects from our portfolio that demonstrate our capabilities:\n",
      "\n",
      "* Our Python expertise: https://example.com/python-portfolio\n",
      "* Our DevOps capabilities: https://example.com/devops-portfolio\n",
      "* Our experience with AWS: https://example.com/devops-portfolio (includes AWS-related projects)\n",
      "\n",
      "At GNSV, we understand the importance of seamless integration of business processes through automated tools. Our team is dedicated to empowering enterprises with tailored solutions that foster growth and efficiency. We'd be delighted to discuss how our expertise can support Nike's digital transformation initiatives.\n",
      "\n",
      "If you're interested in learning more about our services and how we can contribute to Nike's success, please don't hesitate to contact me. I'd be happy to schedule a call to explore further.\n",
      "\n",
      "Best regards,\n",
      "\n",
      "Varun\n",
      "Business Development Executive\n",
      "GNSV\n"
     ]
    }
   ],
   "source": [
    "#Now based on the job and the portfolio's fetched I can generate a cold email that i can send to potentioal clients\n",
    "#GNSV(Garimella Narasimha Sai Varun) is my madeup company please excuse the lack of creativity in naming it.😅\n",
    "prompt_email = PromptTemplate.from_template(\n",
    "        \"\"\"\n",
    "        ### JOB DESCRIPTION:\n",
    "        {job_description} \n",
    "        \n",
    "        ### INSTRUCTION:\n",
    "        You are Varun, a business development executive at GNSV. GNSV is an AI & Software Consulting company dedicated to facilitating\n",
    "        the seamless integration of business processes through automated tools. \n",
    "        Over our experience, we have empowered numerous enterprises with tailored solutions, fostering scalability, \n",
    "        process optimization, cost reduction, and heightened overall efficiency. \n",
    "        Your job is to write a cold email to the client regarding the job mentioned above describing the capability of GNSV\n",
    "        in fulfilling their needs.\n",
    "        Also add the most relevant ones from the following links to showcase GNSV's portfolio: {link_list}\n",
    "        Remember you are Varun, BDE at GNSV. \n",
    "        Do not provide a preamble.\n",
    "        ### EMAIL (NO PREAMBLE):\n",
    "        \n",
    "        \"\"\"\n",
    "        )\n",
    "\n",
    "chain_email = prompt_email | llm\n",
    "res = chain_email.invoke({\"job_description\": str(job), \"link_list\": links})\n",
    "print(res.content)"
   ]
  },
  {
   "cell_type": "code",
   "execution_count": null,
   "metadata": {},
   "outputs": [],
   "source": []
  }
 ],
 "metadata": {
  "kernelspec": {
   "display_name": "base",
   "language": "python",
   "name": "python3"
  },
  "language_info": {
   "codemirror_mode": {
    "name": "ipython",
    "version": 3
   },
   "file_extension": ".py",
   "mimetype": "text/x-python",
   "name": "python",
   "nbconvert_exporter": "python",
   "pygments_lexer": "ipython3",
   "version": "3.11.5"
  }
 },
 "nbformat": 4,
 "nbformat_minor": 2
}
